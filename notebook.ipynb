{
 "cells": [
  {
   "cell_type": "markdown",
   "metadata": {},
   "source": [
    "### Linear regression"
   ]
  },
  {
   "cell_type": "code",
   "execution_count": 1,
   "metadata": {},
   "outputs": [
    {
     "ename": "SyntaxError",
     "evalue": "invalid syntax (<ipython-input-1-e093bfa55c6e>, line 15)",
     "output_type": "error",
     "traceback": [
      "\u001b[0;36m  File \u001b[0;32m\"<ipython-input-1-e093bfa55c6e>\"\u001b[0;36m, line \u001b[0;32m15\u001b[0m\n\u001b[0;31m    a-=\u001b[0m\n\u001b[0m       ^\u001b[0m\n\u001b[0;31mSyntaxError\u001b[0m\u001b[0;31m:\u001b[0m invalid syntax\n"
     ]
    }
   ],
   "source": [
    "import math\n",
    "\n",
    "def golden (x):\n",
    "    return 2 + 3*x\n",
    "\n",
    "def fit (a=0.0, b=0.0, epsilon, n=10000, attempts=0, lrate=0.01):\n",
    "    prev_error = 0.0\n",
    "    while(True):\n",
    "        if error(a) < epsilon: return a\n",
    "        if attempts >= n: return a\n",
    "        attempts += 1\n",
    "        \n",
    "        crnt_error = error(a,b)\n",
    "        diff=crnt_error-prev_error\n",
    "        a-=\n",
    "    \n",
    "def error (a, b, n=1000):\n",
    "    error = 0.0;\n",
    "    for i in range(0,n):\n",
    "        x = float(i)/n\n",
    "        error += (golden(x) - (a + b*x))**2\n",
    "    error /= n \n",
    "    return math.sqrt(error)\n",
    "\n",
    "fit(1, 0.01, prev_error=100)\n",
    "        "
   ]
  },
  {
   "cell_type": "markdown",
   "metadata": {},
   "source": [
    "### Jacobian Method\n",
    "Basic steps in a Jacobi eigenvalue procedure:\n",
    "1. Choose an index pair $(p,q)$ that satisfies $1 \\leq p \\lt q \\leq n$\n",
    "2. Compute a cosine-sine pair such that \n",
    "\n",
    "$$\n",
    "\\begin{bmatrix}\n",
    "b_{pp} & b_{pq}\\\\\n",
    "b_{qp} & b_{qq}\n",
    "\\end{bmatrix}\n",
    "=\n",
    "\\begin{bmatrix}\n",
    "c & s\\\\\n",
    "-s & c\n",
    "\\end{bmatrix}^T\n",
    "\\begin{bmatrix}\n",
    "a_{pp} & a_{pq}\\\\\n",
    "a_{qp} & a_{qq}\n",
    "\\end{bmatrix}\n",
    "\\begin{bmatrix}\n",
    "c & s\\\\\n",
    "-s & c\n",
    "\\end{bmatrix}\n",
    "$$\n",
    "is diagonal.\n",
    "3. Overwrite $A$ with $B=J^TAJ$ where $J=J(p,q,\\theta)$. Observe that $B$ agrees with $A$ except for rows and columns $p$ and $q$\n",
    "#### Error function\n",
    "$off(B)^2 = ||B||^2_F - \\sum_{i=1}^{n}{b^2_{ii}} = off(A)^2 - 2a^2_{pq}$"
   ]
  },
  {
   "cell_type": "markdown",
   "metadata": {},
   "source": [
    "#### 2-by-2 Symmetric Schur Decomposition\n",
    "To say that we diagonalize in (step 2) is to say that \n",
    "$0=b{pq}=a{pq}(c^2 - s^2) + (a_{pp} - a_{qq})cs$. \n",
    "If $a_{pq} = 0$, then we just set $(c,s)=(1,0)$. Otherwise define $t=\\frac{a_{qq}-a_{pp}}{2a_{pq}}$ and $t=\\frac{s}{c}$, $t=tan(\\theta)$ solves the quadratic $t^2 + 2rt - 1 = 0$.\n",
    "$$t = -r \\pm \\sqrt{1+r^2}$$\n",
    "Whereupon c and s can be resolved from the formulae\n",
    "$$c=1/\\sqrt{1+t^2}$$ $$s=tc$$\n",
    "Choosing t to be the smaller of the two roots ensures that $|\\theta|\\leq \\pi/4$ and has the effect of minimizing the difference between B and A.\n",
    "![title](figures/symschurdec.png)"
   ]
  },
  {
   "cell_type": "code",
   "execution_count": 1,
   "metadata": {},
   "outputs": [
    {
     "data": {
      "text/plain": [
       "(0.7071067811865475, 0.70710678118654746)"
      ]
     },
     "execution_count": 1,
     "metadata": {},
     "output_type": "execute_result"
    }
   ],
   "source": [
    "import numpy as np\n",
    "import math\n",
    "\n",
    "def sym_schur2(A, p, q):\n",
    "    if (A[p,q] != 0):\n",
    "        t = ((A[q,q] - A[p,p]) / (2*A[p,q]))\n",
    "        t = 1/(t+math.sqrt(1+t**2)) if (t>=0) else -1/(-t + math.sqrt(1+t**2))\n",
    "        c = 1/math.sqrt(1+t**2)\n",
    "        s = t*c\n",
    "    else:\n",
    "        c = 1\n",
    "        s = 0\n",
    "    return c, s\n",
    "\n",
    "# Test\n",
    "A = np.array([[1,2,3],[2,4,5],[3,5,6]])\n",
    "p = 1; q = 1;\n",
    "sym_schur2(A, p, q)"
   ]
  },
  {
   "cell_type": "markdown",
   "metadata": {},
   "source": [
    "#### The classical Jacobi Algorithm\n",
    "![title](figures/classjac.png)"
   ]
  },
  {
   "cell_type": "code",
   "execution_count": 2,
   "metadata": {},
   "outputs": [
    {
     "name": "stdout",
     "output_type": "stream",
     "text": [
      "Epsilon: 0.264007575649\n",
      "i\toff(A)\n",
      "--------------------------------\n",
      "0\t16.0\n",
      "1\t1.624\n",
      "1\t0.249\n",
      "[[  4.05385980e-01   2.02551857e-04  -1.33561958e-01  -5.51950087e-02]\n",
      " [  2.02551857e-04   2.20015976e+00  -8.31318740e-02   6.53990750e-16]\n",
      " [ -1.33561958e-01  -8.31318740e-02   8.99923142e-02  -5.72262468e-02]\n",
      " [ -5.51950087e-02  -1.38777878e-17  -5.72262468e-02   2.63044620e+01]]\n",
      "[[ 0.84685273  0.5282037   0.          0.06197832]\n",
      " [-0.39903263  0.61641666 -0.64902773  0.19891325]\n",
      " [-0.29660868  0.42168262  0.72353568  0.45902416]\n",
      " [ 0.18877689 -0.40399892 -0.23507261  0.86364867]]\n"
     ]
    }
   ],
   "source": [
    "# Cost function\n",
    "def off(A):\n",
    "    sum_ = 0\n",
    "    for i in range(0, len(A[:,1])): # Rows\n",
    "        for j in range(0, len(A[1,:])): # Columns\n",
    "           sum_ += A[i,j]**2 if (i!=j) else 0\n",
    "    return math.sqrt(sum_)\n",
    "\n",
    "#p: row, q: column\n",
    "def cyclicPQ(size, A=0, p=0, q=0):\n",
    "    # Increment q if possible\n",
    "    if (q < p-1):\n",
    "        q += 1\n",
    "    elif (p<size-1):\n",
    "        p += 1\n",
    "        q = 0\n",
    "    else:\n",
    "        p=0;q=1;\n",
    "    return (p, q)\n",
    "\n",
    "def optimalPQ(size, A, p=0, q=0):\n",
    "    # Find biggest off-diagonal element of A\n",
    "    p=0; q=0; resP=0; resQ=1; maxElement=0; \n",
    "    while q<(size-2):\n",
    "        p, q = cyclicPQ(size, p=p, q=q) # Iterate through off-diagonal elements\n",
    "        if (A[p,q] > maxElement):\n",
    "            maxElement = A[p,q]\n",
    "            resP, resQ = p, q\n",
    "    #print(\"Chose (P,Q) = ({},{})\".format(resP, resQ))\n",
    "    return resP, resQ\n",
    "    \n",
    "# Classical Jacobi\n",
    "def jac(A, tol=0.01, choosePQ=cyclicPQ):\n",
    "    size = A.shape[0]\n",
    "    V = np.identity(size)\n",
    "    epsilon = tol*np.linalg.norm(A) # Frobernius norm, i.e. sum of singular values (root of square sum)\n",
    "    print(\"Epsilon: {}\".format(epsilon))\n",
    "    p=0; q=0; iterations=0; sweeps = 0\n",
    "    print(\"i\\toff(A)\\n{:-<32}\".format(''))\n",
    "    print(\"{}\\t{}\".format(sweeps, off(A)))\n",
    "    while off(A) > epsilon:\n",
    "        p, q = choosePQ(size, A, p, q)\n",
    "        c, s  = sym_schur2(A,p,q)\n",
    "        # Calculate rotation matrix\n",
    "        R = np.identity(size)\n",
    "        R[p,p]=c;  R[p,q]=s;\n",
    "        R[q,p]=-s; R[q,q]=c;\n",
    "        # Calculate next A\n",
    "        RT = np.transpose(R)\n",
    "        A = np.matmul(RT, A) # R^T * A\n",
    "        A = np.matmul(A, R) # A*R\n",
    "        # Refine V - Eigenvector matrix\n",
    "        V = np.matmul(V,R)\n",
    "        iterations += 1\n",
    "        sweeps = int(iterations/size)\n",
    "        if (iterations%size==0):\n",
    "            print(\"{}\\t{:.3f}\".format(sweeps, off(A)))\n",
    "    print(\"{}\\t{:.3f}\".format(sweeps, off(A)))\n",
    "    return (A, V)\n",
    "        \n",
    "# Test\n",
    "A = np.array([[1,1,1,1], \n",
    "              [1,2,3,4],\n",
    "              [1,3,6,10],\n",
    "              [1,4,10,20]])\n",
    "E, V = jac(A, choosePQ=optimalPQ)\n",
    "print(E)\n",
    "print(V)\n",
    "p, q = optimalPQ(A.shape[0], A)\n",
    "        "
   ]
  },
  {
   "cell_type": "code",
   "execution_count": null,
   "metadata": {},
   "outputs": [],
   "source": []
  }
 ],
 "metadata": {
  "kernelspec": {
   "display_name": "Python 2",
   "language": "python",
   "name": "python2"
  },
  "language_info": {
   "codemirror_mode": {
    "name": "ipython",
    "version": 2
   },
   "file_extension": ".py",
   "mimetype": "text/x-python",
   "name": "python",
   "nbconvert_exporter": "python",
   "pygments_lexer": "ipython2",
   "version": "2.7.14"
  }
 },
 "nbformat": 4,
 "nbformat_minor": 2
}
